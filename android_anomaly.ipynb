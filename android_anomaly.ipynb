{
 "cells": [
  {
   "cell_type": "code",
   "execution_count": 1,
   "id": "dfbfb40e-cc9a-413c-9379-fc9e8130fccd",
   "metadata": {},
   "outputs": [],
   "source": [
    "# for data preprocessing\n",
    "import numpy as np\n",
    "import pandas as pd\n",
    "from collections import Counter\n",
    "from sklearn.preprocessing import StandardScaler\n",
    "# pour le visualisation\n",
    "import seaborn as sns\n",
    "import matplotlib.pyplot as plt\n",
    "# model de performance \n",
    "import tensorflow as tf\n",
    "from tensorflow.keras.layers import Dense\n",
    "from tensorflow.keras.models import Model\n",
    "#from sklearn.model_selection import layers, losses\n",
    "from sklearn.model_selection import train_test_split\n",
    "from sklearn.metrics import classification_report,accuracy_score, precision_score, recall_score"
   ]
  },
  {
   "cell_type": "code",
   "execution_count": 2,
   "id": "ba501c55-2ed1-450d-bef1-288adb9e1277",
   "metadata": {},
   "outputs": [],
   "source": [
    "ds = pd.read_excel('Dataset_final_Android.xlsx')"
   ]
  },
  {
   "cell_type": "code",
   "execution_count": 3,
   "id": "0bdb7479-5008-4fe9-92c1-0666750ba7b4",
   "metadata": {},
   "outputs": [
    {
     "data": {
      "text/plain": [
       "(2000, 7)"
      ]
     },
     "execution_count": 3,
     "metadata": {},
     "output_type": "execute_result"
    }
   ],
   "source": [
    "ds.shape"
   ]
  },
  {
   "cell_type": "code",
   "execution_count": 4,
   "id": "37071132-b504-4146-8948-0716834537e1",
   "metadata": {},
   "outputs": [
    {
     "data": {
      "text/plain": [
       "Index(['Date ', 'Heure ', 'id processus', 'id utilisateur',\n",
       "       'niveau de priorite', 'le tag', 'message detailler'],\n",
       "      dtype='object')"
      ]
     },
     "execution_count": 4,
     "metadata": {},
     "output_type": "execute_result"
    }
   ],
   "source": [
    "ds.columns"
   ]
  },
  {
   "cell_type": "code",
   "execution_count": 5,
   "id": "a501eb50-25c3-46e8-8b5b-40e83536f8a1",
   "metadata": {},
   "outputs": [
    {
     "data": {
      "text/html": [
       "<div>\n",
       "<style scoped>\n",
       "    .dataframe tbody tr th:only-of-type {\n",
       "        vertical-align: middle;\n",
       "    }\n",
       "\n",
       "    .dataframe tbody tr th {\n",
       "        vertical-align: top;\n",
       "    }\n",
       "\n",
       "    .dataframe thead th {\n",
       "        text-align: right;\n",
       "    }\n",
       "</style>\n",
       "<table border=\"1\" class=\"dataframe\">\n",
       "  <thead>\n",
       "    <tr style=\"text-align: right;\">\n",
       "      <th></th>\n",
       "      <th>id processus</th>\n",
       "      <th>id utilisateur</th>\n",
       "      <th>niveau de priorite</th>\n",
       "      <th>le tag</th>\n",
       "      <th>message detailler</th>\n",
       "    </tr>\n",
       "  </thead>\n",
       "  <tbody>\n",
       "    <tr>\n",
       "      <th>0</th>\n",
       "      <td>1702</td>\n",
       "      <td>2395</td>\n",
       "      <td>D</td>\n",
       "      <td>ActivityManager</td>\n",
       "      <td>printFreezingDisplayLogsopening app wtoken = A...</td>\n",
       "    </tr>\n",
       "    <tr>\n",
       "      <th>1</th>\n",
       "      <td>1702</td>\n",
       "      <td>8671</td>\n",
       "      <td>D</td>\n",
       "      <td>ActivityManager</td>\n",
       "      <td>acquire lock=233570404, flags=0x1, tag=\"View L...</td>\n",
       "    </tr>\n",
       "    <tr>\n",
       "      <th>2</th>\n",
       "      <td>1702</td>\n",
       "      <td>8671</td>\n",
       "      <td>D</td>\n",
       "      <td>ActivityManager</td>\n",
       "      <td>ready=true,policy=3,wakefulness=1,wksummary=0x...</td>\n",
       "    </tr>\n",
       "    <tr>\n",
       "      <th>3</th>\n",
       "      <td>1702</td>\n",
       "      <td>2113</td>\n",
       "      <td>V</td>\n",
       "      <td>ActivityManager</td>\n",
       "      <td>WindowManager: Skipping AppWindowToken{df0798e...</td>\n",
       "    </tr>\n",
       "    <tr>\n",
       "      <th>4</th>\n",
       "      <td>2227</td>\n",
       "      <td>2227</td>\n",
       "      <td>D</td>\n",
       "      <td>ActivityManager</td>\n",
       "      <td>visible is system.time.showampm</td>\n",
       "    </tr>\n",
       "  </tbody>\n",
       "</table>\n",
       "</div>"
      ],
      "text/plain": [
       "   id processus  id utilisateur niveau de priorite           le tag  \\\n",
       "0          1702            2395                  D  ActivityManager   \n",
       "1          1702            8671                  D  ActivityManager   \n",
       "2          1702            8671                  D  ActivityManager   \n",
       "3          1702            2113                  V  ActivityManager   \n",
       "4          2227            2227                  D  ActivityManager   \n",
       "\n",
       "                                   message detailler  \n",
       "0  printFreezingDisplayLogsopening app wtoken = A...  \n",
       "1  acquire lock=233570404, flags=0x1, tag=\"View L...  \n",
       "2  ready=true,policy=3,wakefulness=1,wksummary=0x...  \n",
       "3  WindowManager: Skipping AppWindowToken{df0798e...  \n",
       "4                    visible is system.time.showampm  "
      ]
     },
     "execution_count": 5,
     "metadata": {},
     "output_type": "execute_result"
    }
   ],
   "source": [
    "ds = ds[['id processus', 'id utilisateur', 'niveau de priorite', 'le tag', 'message detailler']]\n",
    "ds.head()"
   ]
  },
  {
   "cell_type": "code",
   "execution_count": 6,
   "id": "fb730635-1341-4d1c-84ae-436c16a321d3",
   "metadata": {},
   "outputs": [
    {
     "data": {
      "text/plain": [
       "<seaborn.axisgrid.FacetGrid at 0x257694f5480>"
      ]
     },
     "execution_count": 6,
     "metadata": {},
     "output_type": "execute_result"
    },
    {
     "data": {
      "image/png": "[encoded data removed]",
      "text/plain": [
       "<Figure size 500x500 with 1 Axes>"
      ]
     },
     "metadata": {},
     "output_type": "display_data"
    }
   ],
   "source": [
    "sns.displot(data=ds, x='niveau de priorite', kde=True)"
   ]
  },
  {
   "cell_type": "code",
   "execution_count": 7,
   "id": "226da9d2-e70f-40d9-9b3f-d24a390c3f9e",
   "metadata": {},
   "outputs": [
    {
     "data": {
      "text/html": [
       "<div>\n",
       "<style scoped>\n",
       "    .dataframe tbody tr th:only-of-type {\n",
       "        vertical-align: middle;\n",
       "    }\n",
       "\n",
       "    .dataframe tbody tr th {\n",
       "        vertical-align: top;\n",
       "    }\n",
       "\n",
       "    .dataframe thead th {\n",
       "        text-align: right;\n",
       "    }\n",
       "</style>\n",
       "<table border=\"1\" class=\"dataframe\">\n",
       "  <thead>\n",
       "    <tr style=\"text-align: right;\">\n",
       "      <th></th>\n",
       "      <th>id processus</th>\n",
       "      <th>id utilisateur</th>\n",
       "      <th>niveau de priorite</th>\n",
       "      <th>le tag</th>\n",
       "      <th>message detailler</th>\n",
       "    </tr>\n",
       "  </thead>\n",
       "  <tbody>\n",
       "    <tr>\n",
       "      <th>198</th>\n",
       "      <td>2227</td>\n",
       "      <td>2794</td>\n",
       "      <td>E</td>\n",
       "      <td>PhoneStatusBar</td>\n",
       "      <td>isSimPinSecure mSimDatas is null or empty</td>\n",
       "    </tr>\n",
       "    <tr>\n",
       "      <th>233</th>\n",
       "      <td>1702</td>\n",
       "      <td>17633</td>\n",
       "      <td>E</td>\n",
       "      <td>ActivityManager</td>\n",
       "      <td>applyOptionsLocked: Unknown animationType=0</td>\n",
       "    </tr>\n",
       "    <tr>\n",
       "      <th>1964</th>\n",
       "      <td>1702</td>\n",
       "      <td>2639</td>\n",
       "      <td>E</td>\n",
       "      <td>ActivityManager</td>\n",
       "      <td>applyOptionsLocked: Unknown animationType=0</td>\n",
       "    </tr>\n",
       "  </tbody>\n",
       "</table>\n",
       "</div>"
      ],
      "text/plain": [
       "      id processus  id utilisateur niveau de priorite           le tag  \\\n",
       "198           2227            2794                  E   PhoneStatusBar   \n",
       "233           1702           17633                  E  ActivityManager   \n",
       "1964          1702            2639                  E  ActivityManager   \n",
       "\n",
       "                                 message detailler  \n",
       "198      isSimPinSecure mSimDatas is null or empty  \n",
       "233    applyOptionsLocked: Unknown animationType=0  \n",
       "1964   applyOptionsLocked: Unknown animationType=0  "
      ]
     },
     "execution_count": 7,
     "metadata": {},
     "output_type": "execute_result"
    }
   ],
   "source": [
    "ds[ds['niveau de priorite'] == 'E']"
   ]
  },
  {
   "cell_type": "code",
   "execution_count": 8,
   "id": "735ebf0f-aad7-45c6-8b49-9bb2e3439e5b",
   "metadata": {},
   "outputs": [],
   "source": [
    "dataset_non_numerique = []\n",
    "for k,v in zip(ds.columns,ds.dtypes):\n",
    "    if v==\"object\":\n",
    "        dataset_non_numerique.append(k)"
   ]
  },
  {
   "cell_type": "code",
   "execution_count": 9,
   "id": "4b661ada-c4da-4825-9f01-944ce340061a",
   "metadata": {},
   "outputs": [],
   "source": [
    "numerisation = {colonne:{v:k for k,v in enumerate(ds[colonne].unique())}\n",
    "for colonne in dataset_non_numerique}"
   ]
  },
  {
   "cell_type": "code",
   "execution_count": 10,
   "id": "f1cbc76c-75d9-48ac-aa15-586a25a25aec",
   "metadata": {},
   "outputs": [],
   "source": [
    "#numerisation"
   ]
  },
  {
   "cell_type": "code",
   "execution_count": 11,
   "id": "255fc952-c6b5-4e6a-9f2f-15f408009cf7",
   "metadata": {},
   "outputs": [],
   "source": [
    "for colonne in dataset_non_numerique:\n",
    "    ds[colonne]= ds[colonne].map(numerisation[colonne])"
   ]
  },
  {
   "cell_type": "code",
   "execution_count": 12,
   "id": "f3329386-847b-4d1e-b4a7-7cf20c6f02ca",
   "metadata": {},
   "outputs": [
    {
     "data": {
      "text/plain": [
       "array([[<Axes: title={'center': 'id processus'}>,\n",
       "        <Axes: title={'center': 'id utilisateur'}>],\n",
       "       [<Axes: title={'center': 'niveau de priorite'}>,\n",
       "        <Axes: title={'center': 'le tag'}>],\n",
       "       [<Axes: title={'center': 'message detailler'}>, <Axes: >]],\n",
       "      dtype=object)"
      ]
     },
     "execution_count": 12,
     "metadata": {},
     "output_type": "execute_result"
    },
    {
     "data": {
      "image/png": "[encoded data removed]",
      "text/plain": [
       "<Figure size 2500x2500 with 6 Axes>"
      ]
     },
     "metadata": {},
     "output_type": "display_data"
    }
   ],
   "source": [
    "list_colonne = []\n",
    "for k,v in zip(ds.columns,ds.dtypes):\n",
    "    list_colonne.append(k)\n",
    "ds[list_colonne].hist(bins=15, figsize=(25,25))"
   ]
  },
  {
   "cell_type": "code",
   "execution_count": 13,
   "id": "fe0c080b-9338-4b09-81f6-ecc1919e673b",
   "metadata": {},
   "outputs": [
    {
     "data": {
      "text/plain": [
       "array([0, 1, 2, 3, 4], dtype=int64)"
      ]
     },
     "execution_count": 13,
     "metadata": {},
     "output_type": "execute_result"
    }
   ],
   "source": [
    "ds['niveau de priorite'].unique()"
   ]
  },
  {
   "cell_type": "code",
   "execution_count": 14,
   "id": "c2f74e72-900f-49e7-a112-52285f744f8f",
   "metadata": {},
   "outputs": [
    {
     "data": {
      "text/html": [
       "<div>\n",
       "<style scoped>\n",
       "    .dataframe tbody tr th:only-of-type {\n",
       "        vertical-align: middle;\n",
       "    }\n",
       "\n",
       "    .dataframe tbody tr th {\n",
       "        vertical-align: top;\n",
       "    }\n",
       "\n",
       "    .dataframe thead th {\n",
       "        text-align: right;\n",
       "    }\n",
       "</style>\n",
       "<table border=\"1\" class=\"dataframe\">\n",
       "  <thead>\n",
       "    <tr style=\"text-align: right;\">\n",
       "      <th></th>\n",
       "      <th>id processus</th>\n",
       "      <th>id utilisateur</th>\n",
       "      <th>niveau de priorite</th>\n",
       "      <th>le tag</th>\n",
       "      <th>message detailler</th>\n",
       "    </tr>\n",
       "  </thead>\n",
       "  <tbody>\n",
       "    <tr>\n",
       "      <th>count</th>\n",
       "      <td>2000.00000</td>\n",
       "      <td>2000.000000</td>\n",
       "      <td>2000.000000</td>\n",
       "      <td>2000.000000</td>\n",
       "      <td>2000.000000</td>\n",
       "    </tr>\n",
       "    <tr>\n",
       "      <th>mean</th>\n",
       "      <td>2387.33550</td>\n",
       "      <td>4703.915500</td>\n",
       "      <td>1.309500</td>\n",
       "      <td>4.230500</td>\n",
       "      <td>209.070000</td>\n",
       "    </tr>\n",
       "    <tr>\n",
       "      <th>std</th>\n",
       "      <td>3225.42582</td>\n",
       "      <td>6201.728915</td>\n",
       "      <td>1.021387</td>\n",
       "      <td>3.415729</td>\n",
       "      <td>119.856727</td>\n",
       "    </tr>\n",
       "    <tr>\n",
       "      <th>min</th>\n",
       "      <td>1702.00000</td>\n",
       "      <td>1702.000000</td>\n",
       "      <td>0.000000</td>\n",
       "      <td>0.000000</td>\n",
       "      <td>0.000000</td>\n",
       "    </tr>\n",
       "    <tr>\n",
       "      <th>25%</th>\n",
       "      <td>1702.00000</td>\n",
       "      <td>2105.000000</td>\n",
       "      <td>0.000000</td>\n",
       "      <td>2.000000</td>\n",
       "      <td>143.000000</td>\n",
       "    </tr>\n",
       "    <tr>\n",
       "      <th>50%</th>\n",
       "      <td>1702.00000</td>\n",
       "      <td>2227.000000</td>\n",
       "      <td>2.000000</td>\n",
       "      <td>4.000000</td>\n",
       "      <td>212.500000</td>\n",
       "    </tr>\n",
       "    <tr>\n",
       "      <th>75%</th>\n",
       "      <td>2227.00000</td>\n",
       "      <td>2644.000000</td>\n",
       "      <td>2.000000</td>\n",
       "      <td>7.000000</td>\n",
       "      <td>258.000000</td>\n",
       "    </tr>\n",
       "    <tr>\n",
       "      <th>max</th>\n",
       "      <td>30852.00000</td>\n",
       "      <td>30852.000000</td>\n",
       "      <td>4.000000</td>\n",
       "      <td>19.000000</td>\n",
       "      <td>534.000000</td>\n",
       "    </tr>\n",
       "  </tbody>\n",
       "</table>\n",
       "</div>"
      ],
      "text/plain": [
       "       id processus  id utilisateur  niveau de priorite       le tag  \\\n",
       "count    2000.00000     2000.000000         2000.000000  2000.000000   \n",
       "mean     2387.33550     4703.915500            1.309500     4.230500   \n",
       "std      3225.42582     6201.728915            1.021387     3.415729   \n",
       "min      1702.00000     1702.000000            0.000000     0.000000   \n",
       "25%      1702.00000     2105.000000            0.000000     2.000000   \n",
       "50%      1702.00000     2227.000000            2.000000     4.000000   \n",
       "75%      2227.00000     2644.000000            2.000000     7.000000   \n",
       "max     30852.00000    30852.000000            4.000000    19.000000   \n",
       "\n",
       "       message detailler  \n",
       "count        2000.000000  \n",
       "mean          209.070000  \n",
       "std           119.856727  \n",
       "min             0.000000  \n",
       "25%           143.000000  \n",
       "50%           212.500000  \n",
       "75%           258.000000  \n",
       "max           534.000000  "
      ]
     },
     "execution_count": 14,
     "metadata": {},
     "output_type": "execute_result"
    }
   ],
   "source": [
    "ds.describe()"
   ]
  },
  {
   "cell_type": "code",
   "execution_count": 15,
   "id": "52f50307-b4ca-47c5-873b-61c755c695f1",
   "metadata": {},
   "outputs": [],
   "source": [
    "y = ds['niveau de priorite']\n",
    "x = ds.drop(['niveau de priorite'], axis=1)"
   ]
  },
  {
   "cell_type": "code",
   "execution_count": 16,
   "id": "c148dfd9-a028-41e1-a360-3883e72d9243",
   "metadata": {},
   "outputs": [],
   "source": [
    "x_train, x_test, y_train, y_test = train_test_split(x, y, test_size=0.2, random_state=111)"
   ]
  },
  {
   "cell_type": "code",
   "execution_count": 17,
   "id": "a251672c-2ace-496f-9419-f41d06654af6",
   "metadata": {},
   "outputs": [
    {
     "data": {
      "text/html": [
       "<div>\n",
       "<style scoped>\n",
       "    .dataframe tbody tr th:only-of-type {\n",
       "        vertical-align: middle;\n",
       "    }\n",
       "\n",
       "    .dataframe tbody tr th {\n",
       "        vertical-align: top;\n",
       "    }\n",
       "\n",
       "    .dataframe thead th {\n",
       "        text-align: right;\n",
       "    }\n",
       "</style>\n",
       "<table border=\"1\" class=\"dataframe\">\n",
       "  <thead>\n",
       "    <tr style=\"text-align: right;\">\n",
       "      <th></th>\n",
       "      <th>id processus</th>\n",
       "      <th>id utilisateur</th>\n",
       "      <th>le tag</th>\n",
       "      <th>message detailler</th>\n",
       "    </tr>\n",
       "  </thead>\n",
       "  <tbody>\n",
       "    <tr>\n",
       "      <th>1696</th>\n",
       "      <td>2227</td>\n",
       "      <td>2227</td>\n",
       "      <td>8</td>\n",
       "      <td>475</td>\n",
       "    </tr>\n",
       "    <tr>\n",
       "      <th>455</th>\n",
       "      <td>2227</td>\n",
       "      <td>2227</td>\n",
       "      <td>9</td>\n",
       "      <td>194</td>\n",
       "    </tr>\n",
       "    <tr>\n",
       "      <th>1431</th>\n",
       "      <td>1702</td>\n",
       "      <td>2105</td>\n",
       "      <td>2</td>\n",
       "      <td>439</td>\n",
       "    </tr>\n",
       "    <tr>\n",
       "      <th>132</th>\n",
       "      <td>2227</td>\n",
       "      <td>2227</td>\n",
       "      <td>4</td>\n",
       "      <td>81</td>\n",
       "    </tr>\n",
       "    <tr>\n",
       "      <th>1029</th>\n",
       "      <td>1702</td>\n",
       "      <td>1820</td>\n",
       "      <td>4</td>\n",
       "      <td>217</td>\n",
       "    </tr>\n",
       "  </tbody>\n",
       "</table>\n",
       "</div>"
      ],
      "text/plain": [
       "      id processus  id utilisateur  le tag  message detailler\n",
       "1696          2227            2227       8                475\n",
       "455           2227            2227       9                194\n",
       "1431          1702            2105       2                439\n",
       "132           2227            2227       4                 81\n",
       "1029          1702            1820       4                217"
      ]
     },
     "execution_count": 17,
     "metadata": {},
     "output_type": "execute_result"
    }
   ],
   "source": [
    "x_train.head()"
   ]
  },
  {
   "cell_type": "code",
   "execution_count": 18,
   "id": "14b77737-43e7-4fa6-987f-94ae03168d4b",
   "metadata": {},
   "outputs": [],
   "source": [
    "scaler = StandardScaler()\n",
    "data_scaled = scaler.fit(x_train)\n",
    "data_scaled = scaler.fit(x_test)\n",
    "train_data_scaled = data_scaled.transform(x_train)\n",
    "test_data_scaled = data_scaled.transform(x_test)"
   ]
  },
  {
   "cell_type": "code",
   "execution_count": 19,
   "id": "1b923316-3898-430b-b979-a259cb6c256a",
   "metadata": {},
   "outputs": [],
   "source": [
    "x_train[['ID_PROC','ID_USER','TAG','MSG_DETAIL']] = train_data_scaled\n",
    "x_test[['ID_PROC','ID_USER','TAG','MSG_DETAIL']] = test_data_scaled\n",
    "x_train = x_train.iloc[:,4:]\n",
    "x_test = x_test.iloc[:,4:]"
   ]
  },
  {
   "cell_type": "code",
   "execution_count": 20,
   "id": "ebf53c96-55d7-46a3-8c25-bfb41d78fa1c",
   "metadata": {},
   "outputs": [
    {
     "data": {
      "text/plain": [
       "(1600, 4)"
      ]
     },
     "execution_count": 20,
     "metadata": {},
     "output_type": "execute_result"
    }
   ],
   "source": [
    "x_train.shape"
   ]
  },
  {
   "cell_type": "code",
   "execution_count": 21,
   "id": "4d147e14-cd6d-4ba0-ab2b-64fdc73d2b85",
   "metadata": {},
   "outputs": [
    {
     "data": {
      "text/plain": [
       "(400, 4)"
      ]
     },
     "execution_count": 21,
     "metadata": {},
     "output_type": "execute_result"
    }
   ],
   "source": [
    "x_test.shape"
   ]
  },
  {
   "cell_type": "code",
   "execution_count": 22,
   "id": "16a3d22e-cad1-4733-890d-598a1e80780f",
   "metadata": {},
   "outputs": [],
   "source": [
    "normal_train_data = x_train[(y_train != 4)]\n",
    "anomaly_train_data = x_train[(y_train == 4)]\n",
    "normal_test_data = x_test[(y_test != 4)]\n",
    "anomaly_test_data = x_test[(y_test == 4)]"
   ]
  },
  {
   "cell_type": "code",
   "execution_count": 23,
   "id": "22a268bd-14f2-40ab-8852-93542bd308cc",
   "metadata": {},
   "outputs": [],
   "source": [
    "class AnomalyDetector(Model):\n",
    "  def __init__(self):\n",
    "    super(AnomalyDetector, self).__init__()\n",
    "    # Input layer\n",
    "    input = tf.keras.layers.Input(shape=(4,))\n",
    "    self.encoder = tf.keras.Sequential([\n",
    "      Dense(2, activation=\"relu\"),\n",
    "      Dense(1, activation=\"relu\")])\n",
    "    \n",
    "    self.decoder = tf.keras.Sequential([\n",
    "      Dense(2, activation=\"relu\"),\n",
    "      Dense(4, activation=\"sigmoid\")])\n",
    "    \n",
    "  def call(self, x):\n",
    "    encoded = self.encoder(x)\n",
    "    decoded = self.decoder(encoded)\n",
    "    return decoded\n",
    "\n",
    "autoencoder = AnomalyDetector()"
   ]
  },
  {
   "cell_type": "code",
   "execution_count": 24,
   "id": "db633256-c6fb-403d-8b5b-590e3985cdb0",
   "metadata": {},
   "outputs": [
    {
     "name": "stdout",
     "output_type": "stream",
     "text": [
      "Epoch 1/200\n",
      "80/80 [==============================] - 1s 5ms/step - loss: 0.8724 - val_loss: 0.8438\n",
      "Epoch 2/200\n",
      "80/80 [==============================] - 0s 2ms/step - loss: 0.8295 - val_loss: 0.7941\n",
      "Epoch 3/200\n",
      "80/80 [==============================] - 0s 2ms/step - loss: 0.7774 - val_loss: 0.7395\n",
      "Epoch 4/200\n",
      "80/80 [==============================] - 0s 2ms/step - loss: 0.7256 - val_loss: 0.6926\n",
      "Epoch 5/200\n",
      "80/80 [==============================] - 0s 2ms/step - loss: 0.6850 - val_loss: 0.6598\n",
      "Epoch 6/200\n",
      "80/80 [==============================] - 0s 2ms/step - loss: 0.6593 - val_loss: 0.6413\n",
      "Epoch 7/200\n",
      "80/80 [==============================] - 0s 3ms/step - loss: 0.6438 - val_loss: 0.6299\n",
      "Epoch 8/200\n",
      "80/80 [==============================] - 0s 2ms/step - loss: 0.6341 - val_loss: 0.6229\n",
      "Epoch 9/200\n",
      "80/80 [==============================] - 0s 2ms/step - loss: 0.6279 - val_loss: 0.6183\n",
      "Epoch 10/200\n",
      "80/80 [==============================] - 0s 2ms/step - loss: 0.6233 - val_loss: 0.6150\n",
      "Epoch 11/200\n",
      "80/80 [==============================] - 0s 2ms/step - loss: 0.6200 - val_loss: 0.6127\n",
      "Epoch 12/200\n",
      "80/80 [==============================] - 0s 2ms/step - loss: 0.6176 - val_loss: 0.6109\n",
      "Epoch 13/200\n",
      "80/80 [==============================] - 0s 2ms/step - loss: 0.6157 - val_loss: 0.6095\n",
      "Epoch 14/200\n",
      "80/80 [==============================] - 0s 2ms/step - loss: 0.6141 - val_loss: 0.6083\n",
      "Epoch 15/200\n",
      "80/80 [==============================] - 0s 2ms/step - loss: 0.6128 - val_loss: 0.6073\n",
      "Epoch 16/200\n",
      "80/80 [==============================] - 0s 3ms/step - loss: 0.6115 - val_loss: 0.6063\n",
      "Epoch 17/200\n",
      "80/80 [==============================] - 0s 3ms/step - loss: 0.6104 - val_loss: 0.6053\n",
      "Epoch 18/200\n",
      "80/80 [==============================] - 0s 3ms/step - loss: 0.6092 - val_loss: 0.6043\n",
      "Epoch 19/200\n",
      "80/80 [==============================] - 0s 3ms/step - loss: 0.6080 - val_loss: 0.6033\n",
      "Epoch 20/200\n",
      "80/80 [==============================] - 0s 2ms/step - loss: 0.6068 - val_loss: 0.6022\n",
      "Epoch 21/200\n",
      "80/80 [==============================] - 0s 3ms/step - loss: 0.6055 - val_loss: 0.6011\n",
      "Epoch 22/200\n",
      "80/80 [==============================] - 0s 3ms/step - loss: 0.6043 - val_loss: 0.6000\n",
      "Epoch 23/200\n",
      "80/80 [==============================] - 0s 3ms/step - loss: 0.6030 - val_loss: 0.5990\n",
      "Epoch 24/200\n",
      "80/80 [==============================] - 0s 3ms/step - loss: 0.6017 - val_loss: 0.5977\n",
      "Epoch 25/200\n",
      "80/80 [==============================] - 0s 3ms/step - loss: 0.6004 - val_loss: 0.5965\n",
      "Epoch 26/200\n",
      "80/80 [==============================] - 0s 3ms/step - loss: 0.5990 - val_loss: 0.5952\n",
      "Epoch 27/200\n",
      "80/80 [==============================] - 0s 3ms/step - loss: 0.5974 - val_loss: 0.5937\n",
      "Epoch 28/200\n",
      "80/80 [==============================] - 0s 3ms/step - loss: 0.5958 - val_loss: 0.5921\n",
      "Epoch 29/200\n",
      "80/80 [==============================] - 0s 3ms/step - loss: 0.5940 - val_loss: 0.5905\n",
      "Epoch 30/200\n",
      "80/80 [==============================] - 0s 3ms/step - loss: 0.5922 - val_loss: 0.5888\n",
      "Epoch 31/200\n",
      "80/80 [==============================] - 0s 3ms/step - loss: 0.5904 - val_loss: 0.5871\n",
      "Epoch 32/200\n",
      "80/80 [==============================] - 0s 3ms/step - loss: 0.5887 - val_loss: 0.5856\n",
      "Epoch 33/200\n",
      "80/80 [==============================] - 0s 3ms/step - loss: 0.5871 - val_loss: 0.5842\n",
      "Epoch 34/200\n",
      "80/80 [==============================] - 0s 3ms/step - loss: 0.5856 - val_loss: 0.5830\n",
      "Epoch 35/200\n",
      "80/80 [==============================] - 0s 2ms/step - loss: 0.5842 - val_loss: 0.5817\n",
      "Epoch 36/200\n",
      "80/80 [==============================] - 0s 3ms/step - loss: 0.5830 - val_loss: 0.5808\n",
      "Epoch 37/200\n",
      "80/80 [==============================] - 0s 2ms/step - loss: 0.5819 - val_loss: 0.5798\n",
      "Epoch 38/200\n",
      "80/80 [==============================] - 0s 3ms/step - loss: 0.5809 - val_loss: 0.5790\n",
      "Epoch 39/200\n",
      "80/80 [==============================] - 0s 3ms/step - loss: 0.5800 - val_loss: 0.5782\n",
      "Epoch 40/200\n",
      "80/80 [==============================] - 0s 3ms/step - loss: 0.5793 - val_loss: 0.5777\n",
      "Epoch 41/200\n",
      "80/80 [==============================] - 0s 3ms/step - loss: 0.5786 - val_loss: 0.5772\n",
      "Epoch 42/200\n",
      "80/80 [==============================] - 0s 3ms/step - loss: 0.5781 - val_loss: 0.5768\n",
      "Epoch 43/200\n",
      "80/80 [==============================] - 0s 3ms/step - loss: 0.5776 - val_loss: 0.5764\n",
      "Epoch 44/200\n",
      "80/80 [==============================] - 0s 3ms/step - loss: 0.5771 - val_loss: 0.5760\n",
      "Epoch 45/200\n",
      "80/80 [==============================] - 0s 3ms/step - loss: 0.5766 - val_loss: 0.5756\n",
      "Epoch 46/200\n",
      "80/80 [==============================] - 0s 3ms/step - loss: 0.5762 - val_loss: 0.5753\n",
      "Epoch 47/200\n",
      "80/80 [==============================] - 0s 3ms/step - loss: 0.5758 - val_loss: 0.5750\n",
      "Epoch 48/200\n",
      "80/80 [==============================] - 0s 3ms/step - loss: 0.5754 - val_loss: 0.5746\n",
      "Epoch 49/200\n",
      "80/80 [==============================] - 0s 3ms/step - loss: 0.5751 - val_loss: 0.5744\n",
      "Epoch 50/200\n",
      "80/80 [==============================] - 0s 3ms/step - loss: 0.5747 - val_loss: 0.5741\n",
      "Epoch 51/200\n",
      "80/80 [==============================] - 0s 3ms/step - loss: 0.5743 - val_loss: 0.5738\n",
      "Epoch 52/200\n",
      "80/80 [==============================] - 0s 3ms/step - loss: 0.5740 - val_loss: 0.5735\n",
      "Epoch 53/200\n",
      "80/80 [==============================] - 0s 3ms/step - loss: 0.5736 - val_loss: 0.5732\n",
      "Epoch 54/200\n",
      "80/80 [==============================] - 0s 3ms/step - loss: 0.5733 - val_loss: 0.5729\n",
      "Epoch 55/200\n",
      "80/80 [==============================] - 0s 2ms/step - loss: 0.5730 - val_loss: 0.5726\n",
      "Epoch 56/200\n",
      "80/80 [==============================] - 0s 3ms/step - loss: 0.5727 - val_loss: 0.5724\n",
      "Epoch 57/200\n",
      "80/80 [==============================] - 0s 3ms/step - loss: 0.5724 - val_loss: 0.5722\n",
      "Epoch 58/200\n",
      "80/80 [==============================] - 0s 3ms/step - loss: 0.5721 - val_loss: 0.5719\n",
      "Epoch 59/200\n",
      "80/80 [==============================] - 0s 3ms/step - loss: 0.5718 - val_loss: 0.5717\n",
      "Epoch 60/200\n",
      "80/80 [==============================] - 0s 3ms/step - loss: 0.5715 - val_loss: 0.5714\n",
      "Epoch 61/200\n",
      "80/80 [==============================] - 0s 3ms/step - loss: 0.5713 - val_loss: 0.5712\n",
      "Epoch 62/200\n",
      "80/80 [==============================] - 0s 3ms/step - loss: 0.5710 - val_loss: 0.5713\n",
      "Epoch 63/200\n",
      "80/80 [==============================] - 0s 3ms/step - loss: 0.5707 - val_loss: 0.5710\n",
      "Epoch 64/200\n",
      "80/80 [==============================] - 0s 3ms/step - loss: 0.5705 - val_loss: 0.5706\n",
      "Epoch 65/200\n",
      "80/80 [==============================] - 0s 3ms/step - loss: 0.5702 - val_loss: 0.5703\n",
      "Epoch 66/200\n",
      "80/80 [==============================] - 0s 3ms/step - loss: 0.5699 - val_loss: 0.5700\n",
      "Epoch 67/200\n",
      "80/80 [==============================] - 0s 3ms/step - loss: 0.5696 - val_loss: 0.5698\n",
      "Epoch 68/200\n",
      "80/80 [==============================] - 0s 4ms/step - loss: 0.5694 - val_loss: 0.5694\n",
      "Epoch 69/200\n",
      "80/80 [==============================] - 0s 3ms/step - loss: 0.5690 - val_loss: 0.5691\n",
      "Epoch 70/200\n",
      "80/80 [==============================] - 0s 3ms/step - loss: 0.5687 - val_loss: 0.5686\n",
      "Epoch 71/200\n",
      "80/80 [==============================] - 0s 3ms/step - loss: 0.5684 - val_loss: 0.5682\n",
      "Epoch 72/200\n",
      "80/80 [==============================] - 0s 3ms/step - loss: 0.5681 - val_loss: 0.5681\n",
      "Epoch 73/200\n",
      "80/80 [==============================] - 0s 3ms/step - loss: 0.5678 - val_loss: 0.5676\n",
      "Epoch 74/200\n",
      "80/80 [==============================] - 0s 3ms/step - loss: 0.5675 - val_loss: 0.5674\n",
      "Epoch 75/200\n",
      "80/80 [==============================] - 0s 3ms/step - loss: 0.5672 - val_loss: 0.5673\n",
      "Epoch 76/200\n",
      "80/80 [==============================] - 0s 2ms/step - loss: 0.5669 - val_loss: 0.5671\n",
      "Epoch 77/200\n",
      "80/80 [==============================] - 0s 3ms/step - loss: 0.5666 - val_loss: 0.5667\n",
      "Epoch 78/200\n",
      "80/80 [==============================] - 0s 3ms/step - loss: 0.5662 - val_loss: 0.5660\n",
      "Epoch 79/200\n",
      "80/80 [==============================] - 0s 3ms/step - loss: 0.5654 - val_loss: 0.5645\n",
      "Epoch 80/200\n",
      "80/80 [==============================] - 0s 3ms/step - loss: 0.5646 - val_loss: 0.5641\n",
      "Epoch 81/200\n",
      "80/80 [==============================] - 0s 3ms/step - loss: 0.5643 - val_loss: 0.5640\n",
      "Epoch 82/200\n",
      "80/80 [==============================] - 0s 3ms/step - loss: 0.5642 - val_loss: 0.5638\n",
      "Epoch 83/200\n",
      "80/80 [==============================] - 0s 3ms/step - loss: 0.5640 - val_loss: 0.5637\n",
      "Epoch 84/200\n",
      "80/80 [==============================] - 0s 3ms/step - loss: 0.5638 - val_loss: 0.5635\n",
      "Epoch 85/200\n",
      "80/80 [==============================] - 0s 3ms/step - loss: 0.5636 - val_loss: 0.5635\n",
      "Epoch 86/200\n",
      "80/80 [==============================] - 0s 4ms/step - loss: 0.5635 - val_loss: 0.5632\n",
      "Epoch 87/200\n",
      "80/80 [==============================] - 0s 4ms/step - loss: 0.5633 - val_loss: 0.5630\n",
      "Epoch 88/200\n",
      "80/80 [==============================] - 0s 4ms/step - loss: 0.5632 - val_loss: 0.5630\n",
      "Epoch 89/200\n",
      "80/80 [==============================] - 0s 3ms/step - loss: 0.5631 - val_loss: 0.5630\n",
      "Epoch 90/200\n",
      "80/80 [==============================] - 0s 3ms/step - loss: 0.5631 - val_loss: 0.5629\n",
      "Epoch 91/200\n",
      "80/80 [==============================] - 0s 3ms/step - loss: 0.5630 - val_loss: 0.5628\n",
      "Epoch 92/200\n",
      "80/80 [==============================] - 0s 3ms/step - loss: 0.5629 - val_loss: 0.5627\n",
      "Epoch 93/200\n",
      "80/80 [==============================] - 0s 3ms/step - loss: 0.5628 - val_loss: 0.5626\n",
      "Epoch 94/200\n",
      "80/80 [==============================] - 0s 3ms/step - loss: 0.5628 - val_loss: 0.5626\n",
      "Epoch 95/200\n",
      "80/80 [==============================] - 0s 2ms/step - loss: 0.5627 - val_loss: 0.5627\n",
      "Epoch 96/200\n",
      "80/80 [==============================] - 0s 3ms/step - loss: 0.5626 - val_loss: 0.5625\n",
      "Epoch 97/200\n",
      "80/80 [==============================] - 0s 3ms/step - loss: 0.5626 - val_loss: 0.5624\n",
      "Epoch 98/200\n",
      "80/80 [==============================] - 0s 3ms/step - loss: 0.5625 - val_loss: 0.5624\n",
      "Epoch 99/200\n",
      "80/80 [==============================] - 0s 3ms/step - loss: 0.5624 - val_loss: 0.5623\n",
      "Epoch 100/200\n",
      "80/80 [==============================] - 0s 3ms/step - loss: 0.5624 - val_loss: 0.5623\n",
      "Epoch 101/200\n",
      "80/80 [==============================] - 0s 3ms/step - loss: 0.5624 - val_loss: 0.5623\n",
      "Epoch 102/200\n",
      "80/80 [==============================] - 0s 3ms/step - loss: 0.5623 - val_loss: 0.5623\n",
      "Epoch 103/200\n",
      "80/80 [==============================] - 0s 3ms/step - loss: 0.5623 - val_loss: 0.5622\n",
      "Epoch 104/200\n",
      "80/80 [==============================] - 0s 3ms/step - loss: 0.5622 - val_loss: 0.5622\n",
      "Epoch 105/200\n",
      "80/80 [==============================] - 0s 3ms/step - loss: 0.5622 - val_loss: 0.5621\n",
      "Epoch 106/200\n",
      "80/80 [==============================] - 0s 3ms/step - loss: 0.5622 - val_loss: 0.5622\n",
      "Epoch 107/200\n",
      "80/80 [==============================] - 0s 3ms/step - loss: 0.5621 - val_loss: 0.5621\n",
      "Epoch 108/200\n",
      "80/80 [==============================] - 0s 3ms/step - loss: 0.5621 - val_loss: 0.5620\n",
      "Epoch 109/200\n",
      "80/80 [==============================] - 0s 3ms/step - loss: 0.5620 - val_loss: 0.5620\n",
      "Epoch 110/200\n",
      "80/80 [==============================] - 0s 3ms/step - loss: 0.5620 - val_loss: 0.5620\n",
      "Epoch 111/200\n",
      "80/80 [==============================] - 0s 3ms/step - loss: 0.5619 - val_loss: 0.5619\n",
      "Epoch 112/200\n",
      "80/80 [==============================] - 0s 3ms/step - loss: 0.5619 - val_loss: 0.5619\n",
      "Epoch 113/200\n",
      "80/80 [==============================] - 0s 3ms/step - loss: 0.5619 - val_loss: 0.5619\n",
      "Epoch 114/200\n",
      "80/80 [==============================] - 0s 3ms/step - loss: 0.5618 - val_loss: 0.5618\n",
      "Epoch 115/200\n",
      "80/80 [==============================] - 0s 3ms/step - loss: 0.5618 - val_loss: 0.5618\n",
      "Epoch 116/200\n",
      "80/80 [==============================] - 0s 3ms/step - loss: 0.5618 - val_loss: 0.5618\n",
      "Epoch 117/200\n",
      "80/80 [==============================] - 0s 3ms/step - loss: 0.5617 - val_loss: 0.5618\n",
      "Epoch 118/200\n",
      "80/80 [==============================] - 0s 2ms/step - loss: 0.5617 - val_loss: 0.5617\n",
      "Epoch 119/200\n",
      "80/80 [==============================] - 0s 3ms/step - loss: 0.5617 - val_loss: 0.5617\n",
      "Epoch 120/200\n",
      "80/80 [==============================] - 0s 3ms/step - loss: 0.5617 - val_loss: 0.5617\n",
      "Epoch 121/200\n",
      "80/80 [==============================] - 0s 2ms/step - loss: 0.5617 - val_loss: 0.5617\n",
      "Epoch 122/200\n",
      "80/80 [==============================] - 0s 3ms/step - loss: 0.5616 - val_loss: 0.5617\n",
      "Epoch 123/200\n",
      "80/80 [==============================] - 0s 3ms/step - loss: 0.5616 - val_loss: 0.5617\n",
      "Epoch 124/200\n",
      "80/80 [==============================] - 0s 3ms/step - loss: 0.5616 - val_loss: 0.5616\n",
      "Epoch 125/200\n",
      "80/80 [==============================] - 0s 3ms/step - loss: 0.5616 - val_loss: 0.5617\n",
      "Epoch 126/200\n",
      "80/80 [==============================] - 0s 3ms/step - loss: 0.5615 - val_loss: 0.5615\n",
      "Epoch 127/200\n",
      "80/80 [==============================] - 0s 3ms/step - loss: 0.5615 - val_loss: 0.5617\n",
      "Epoch 128/200\n",
      "80/80 [==============================] - 0s 3ms/step - loss: 0.5615 - val_loss: 0.5615\n",
      "Epoch 129/200\n",
      "80/80 [==============================] - 0s 3ms/step - loss: 0.5614 - val_loss: 0.5615\n",
      "Epoch 130/200\n",
      "80/80 [==============================] - 0s 3ms/step - loss: 0.5614 - val_loss: 0.5615\n",
      "Epoch 131/200\n",
      "80/80 [==============================] - 0s 3ms/step - loss: 0.5614 - val_loss: 0.5615\n",
      "Epoch 132/200\n",
      "80/80 [==============================] - 0s 3ms/step - loss: 0.5614 - val_loss: 0.5616\n",
      "Epoch 133/200\n",
      "80/80 [==============================] - 0s 3ms/step - loss: 0.5614 - val_loss: 0.5614\n",
      "Epoch 134/200\n",
      "80/80 [==============================] - 0s 3ms/step - loss: 0.5614 - val_loss: 0.5615\n",
      "Epoch 135/200\n",
      "80/80 [==============================] - 0s 2ms/step - loss: 0.5613 - val_loss: 0.5614\n",
      "Epoch 136/200\n",
      "80/80 [==============================] - 0s 3ms/step - loss: 0.5613 - val_loss: 0.5615\n",
      "Epoch 137/200\n",
      "80/80 [==============================] - 0s 2ms/step - loss: 0.5613 - val_loss: 0.5615\n",
      "Epoch 138/200\n",
      "80/80 [==============================] - 0s 3ms/step - loss: 0.5613 - val_loss: 0.5614\n",
      "Epoch 139/200\n",
      "80/80 [==============================] - 0s 3ms/step - loss: 0.5613 - val_loss: 0.5614\n",
      "Epoch 140/200\n",
      "80/80 [==============================] - 0s 3ms/step - loss: 0.5613 - val_loss: 0.5614\n",
      "Epoch 141/200\n",
      "80/80 [==============================] - 0s 3ms/step - loss: 0.5613 - val_loss: 0.5613\n",
      "Epoch 142/200\n",
      "80/80 [==============================] - 0s 3ms/step - loss: 0.5613 - val_loss: 0.5615\n",
      "Epoch 143/200\n",
      "80/80 [==============================] - 0s 3ms/step - loss: 0.5612 - val_loss: 0.5613\n",
      "Epoch 144/200\n",
      "80/80 [==============================] - 0s 3ms/step - loss: 0.5612 - val_loss: 0.5613\n",
      "Epoch 145/200\n",
      "80/80 [==============================] - 0s 3ms/step - loss: 0.5612 - val_loss: 0.5613\n",
      "Epoch 146/200\n",
      "80/80 [==============================] - 0s 3ms/step - loss: 0.5612 - val_loss: 0.5613\n",
      "Epoch 147/200\n",
      "80/80 [==============================] - 0s 3ms/step - loss: 0.5612 - val_loss: 0.5612\n",
      "Epoch 148/200\n",
      "80/80 [==============================] - 0s 3ms/step - loss: 0.5612 - val_loss: 0.5612\n",
      "Epoch 149/200\n",
      "80/80 [==============================] - 0s 3ms/step - loss: 0.5611 - val_loss: 0.5612\n",
      "Epoch 150/200\n",
      "80/80 [==============================] - 0s 3ms/step - loss: 0.5611 - val_loss: 0.5612\n",
      "Epoch 151/200\n",
      "80/80 [==============================] - 0s 3ms/step - loss: 0.5611 - val_loss: 0.5612\n",
      "Epoch 152/200\n",
      "80/80 [==============================] - 0s 3ms/step - loss: 0.5611 - val_loss: 0.5612\n",
      "Epoch 153/200\n",
      "80/80 [==============================] - 0s 3ms/step - loss: 0.5611 - val_loss: 0.5612\n",
      "Epoch 154/200\n",
      "80/80 [==============================] - 0s 3ms/step - loss: 0.5611 - val_loss: 0.5612\n",
      "Epoch 155/200\n",
      "80/80 [==============================] - 0s 3ms/step - loss: 0.5611 - val_loss: 0.5612\n",
      "Epoch 156/200\n",
      "80/80 [==============================] - 0s 3ms/step - loss: 0.5611 - val_loss: 0.5612\n",
      "Epoch 157/200\n",
      "80/80 [==============================] - 0s 3ms/step - loss: 0.5611 - val_loss: 0.5611\n",
      "Epoch 158/200\n",
      "80/80 [==============================] - 0s 3ms/step - loss: 0.5610 - val_loss: 0.5612\n",
      "Epoch 159/200\n",
      "80/80 [==============================] - 0s 3ms/step - loss: 0.5610 - val_loss: 0.5611\n",
      "Epoch 160/200\n",
      "80/80 [==============================] - 0s 3ms/step - loss: 0.5610 - val_loss: 0.5612\n",
      "Epoch 161/200\n",
      "80/80 [==============================] - 0s 2ms/step - loss: 0.5610 - val_loss: 0.5612\n",
      "Epoch 162/200\n",
      "80/80 [==============================] - 0s 3ms/step - loss: 0.5610 - val_loss: 0.5611\n",
      "Epoch 163/200\n",
      "80/80 [==============================] - 0s 3ms/step - loss: 0.5610 - val_loss: 0.5611\n",
      "Epoch 164/200\n",
      "80/80 [==============================] - 0s 3ms/step - loss: 0.5610 - val_loss: 0.5611\n",
      "Epoch 165/200\n",
      "80/80 [==============================] - 0s 2ms/step - loss: 0.5610 - val_loss: 0.5611\n",
      "Epoch 166/200\n",
      "80/80 [==============================] - 0s 3ms/step - loss: 0.5610 - val_loss: 0.5612\n",
      "Epoch 167/200\n",
      "80/80 [==============================] - 0s 3ms/step - loss: 0.5610 - val_loss: 0.5611\n",
      "Epoch 168/200\n",
      "80/80 [==============================] - 0s 3ms/step - loss: 0.5610 - val_loss: 0.5611\n",
      "Epoch 169/200\n",
      "80/80 [==============================] - 0s 3ms/step - loss: 0.5610 - val_loss: 0.5611\n",
      "Epoch 170/200\n",
      "80/80 [==============================] - 0s 3ms/step - loss: 0.5609 - val_loss: 0.5611\n",
      "Epoch 171/200\n",
      "80/80 [==============================] - 0s 3ms/step - loss: 0.5610 - val_loss: 0.5611\n",
      "Epoch 172/200\n",
      "80/80 [==============================] - 0s 3ms/step - loss: 0.5609 - val_loss: 0.5610\n",
      "Epoch 173/200\n",
      "80/80 [==============================] - 0s 3ms/step - loss: 0.5609 - val_loss: 0.5610\n",
      "Epoch 174/200\n",
      "80/80 [==============================] - 0s 3ms/step - loss: 0.5609 - val_loss: 0.5610\n",
      "Epoch 175/200\n",
      "80/80 [==============================] - 0s 3ms/step - loss: 0.5609 - val_loss: 0.5611\n",
      "Epoch 176/200\n",
      "80/80 [==============================] - 0s 3ms/step - loss: 0.5609 - val_loss: 0.5610\n",
      "Epoch 177/200\n",
      "80/80 [==============================] - 0s 4ms/step - loss: 0.5610 - val_loss: 0.5610\n",
      "Epoch 178/200\n",
      "80/80 [==============================] - 0s 3ms/step - loss: 0.5609 - val_loss: 0.5610\n",
      "Epoch 179/200\n",
      "80/80 [==============================] - 0s 3ms/step - loss: 0.5609 - val_loss: 0.5610\n",
      "Epoch 180/200\n",
      "80/80 [==============================] - 0s 3ms/step - loss: 0.5609 - val_loss: 0.5610\n",
      "Epoch 181/200\n",
      "80/80 [==============================] - 0s 3ms/step - loss: 0.5609 - val_loss: 0.5610\n",
      "Epoch 182/200\n",
      "80/80 [==============================] - 0s 3ms/step - loss: 0.5609 - val_loss: 0.5610\n",
      "Epoch 183/200\n",
      "80/80 [==============================] - 0s 3ms/step - loss: 0.5609 - val_loss: 0.5610\n",
      "Epoch 184/200\n",
      "80/80 [==============================] - 0s 3ms/step - loss: 0.5609 - val_loss: 0.5610\n",
      "Epoch 185/200\n",
      "80/80 [==============================] - 0s 3ms/step - loss: 0.5608 - val_loss: 0.5609\n",
      "Epoch 186/200\n",
      "80/80 [==============================] - 0s 3ms/step - loss: 0.5608 - val_loss: 0.5610\n",
      "Epoch 187/200\n",
      "80/80 [==============================] - 0s 3ms/step - loss: 0.5609 - val_loss: 0.5610\n",
      "Epoch 188/200\n",
      "80/80 [==============================] - 0s 3ms/step - loss: 0.5609 - val_loss: 0.5610\n",
      "Epoch 189/200\n",
      "80/80 [==============================] - 0s 3ms/step - loss: 0.5608 - val_loss: 0.5609\n",
      "Epoch 190/200\n",
      "80/80 [==============================] - 0s 4ms/step - loss: 0.5608 - val_loss: 0.5609\n",
      "Epoch 191/200\n",
      "80/80 [==============================] - 0s 3ms/step - loss: 0.5608 - val_loss: 0.5609\n",
      "Epoch 192/200\n",
      "80/80 [==============================] - 0s 3ms/step - loss: 0.5608 - val_loss: 0.5609\n",
      "Epoch 193/200\n",
      "80/80 [==============================] - 0s 3ms/step - loss: 0.5608 - val_loss: 0.5609\n",
      "Epoch 194/200\n",
      "80/80 [==============================] - 0s 3ms/step - loss: 0.5608 - val_loss: 0.5610\n",
      "Epoch 195/200\n",
      "80/80 [==============================] - 0s 3ms/step - loss: 0.5608 - val_loss: 0.5609\n",
      "Epoch 196/200\n",
      "80/80 [==============================] - 0s 3ms/step - loss: 0.5608 - val_loss: 0.5609\n",
      "Epoch 197/200\n",
      "80/80 [==============================] - 0s 3ms/step - loss: 0.5608 - val_loss: 0.5610\n",
      "Epoch 198/200\n",
      "80/80 [==============================] - 0s 3ms/step - loss: 0.5608 - val_loss: 0.5609\n",
      "Epoch 199/200\n",
      "80/80 [==============================] - 0s 3ms/step - loss: 0.5608 - val_loss: 0.5609\n",
      "Epoch 200/200\n",
      "80/80 [==============================] - 0s 2ms/step - loss: 0.5608 - val_loss: 0.5609\n"
     ]
    }
   ],
   "source": [
    "# Compile the autoencoder\n",
    "autoencoder.compile(optimizer='adam', loss='mae')\n",
    "# Fit the autoencoder\n",
    "history = autoencoder.fit(normal_train_data, normal_train_data,\n",
    "          epochs=200,\n",
    "          batch_size=20,\n",
    "          validation_data=(x_test, x_test),\n",
    "          shuffle=True)"
   ]
  },
  {
   "cell_type": "code",
   "execution_count": 25,
   "id": "71925029-634b-40f5-ad84-ba550b69960d",
   "metadata": {},
   "outputs": [
    {
     "data": {
      "text/plain": [
       "<matplotlib.legend.Legend at 0x2576f257b20>"
      ]
     },
     "execution_count": 25,
     "metadata": {},
     "output_type": "execute_result"
    },
    {
     "data": {
      "image/png": "[encoded data removed]",
      "text/plain": [
       "<Figure size 640x480 with 1 Axes>"
      ]
     },
     "metadata": {},
     "output_type": "display_data"
    }
   ],
   "source": [
    "plt.plot(history.history[\"loss\"], label=\"Training Loss\")\n",
    "plt.plot(history.history[\"val_loss\"], label=\"Validation Loss\")\n",
    "plt.legend()"
   ]
  },
  {
   "cell_type": "code",
   "execution_count": 26,
   "id": "2bb305a5-9b4e-4b06-9252-9fb0476fe24b",
   "metadata": {},
   "outputs": [],
   "source": [
    "#encoded_data = autoencoder.encoder(normal_test_data)\n",
    "#decoded_data = autoencoder.decoder(encoded_data)\n",
    "#normal_test_data"
   ]
  },
  {
   "cell_type": "code",
   "execution_count": 27,
   "id": "ed35c602-f97e-451e-89b3-778c74ef609f",
   "metadata": {},
   "outputs": [],
   "source": [
    "#plt.plot(normal_test_data.iloc[:0,1], 'b')\n",
    "#plt.plot(decoded_data.iloc[:,0:1], 'r')\n",
    "#plt.fill_between(np.arange(4), decoded_data[0], normal_test_data.iloc[:0,1], color='lightcoral')\n",
    "#plt.legend(labels=[\"Input\", \"Reconstruction\", \"Error\"])\n",
    "#plt.show()"
   ]
  },
  {
   "cell_type": "code",
   "execution_count": 28,
   "id": "2d74453a-0336-4c10-a4ef-782aed90912c",
   "metadata": {},
   "outputs": [
    {
     "name": "stdout",
     "output_type": "stream",
     "text": [
      "13/13 [==============================] - 0s 2ms/step\n",
      "The prediction loss threshold for 2% of outliers is 1.64\n"
     ]
    },
    {
     "data": {
      "text/plain": [
       "<matplotlib.lines.Line2D at 0x2576ee75810>"
      ]
     },
     "execution_count": 28,
     "metadata": {},
     "output_type": "execute_result"
    },
    {
     "data": {
      "image/png": "[encoded data removed]",
      "text/plain": [
       "<Figure size 640x480 with 1 Axes>"
      ]
     },
     "metadata": {},
     "output_type": "display_data"
    }
   ],
   "source": [
    "# for predict anomalies/outliers in the training dataset\n",
    "prediction = autoencoder.predict(x_test)\n",
    "# for get the mean absolute error between actual and reconstruction/prediction\n",
    "prediction_loss = tf.keras.losses.mae(prediction, x_test)\n",
    "# for check the prediction loss threshold for 2% of outliers\n",
    "loss_threshold = np.percentile(prediction_loss, 98)\n",
    "print(f'The prediction loss threshold for 2% of outliers is {loss_threshold:.2f}')\n",
    "# for visualize the threshold\n",
    "sns.histplot(prediction_loss, bins=30, alpha=0.8)\n",
    "plt.axvline(x=loss_threshold, color='orange')"
   ]
  },
  {
   "cell_type": "code",
   "execution_count": 29,
   "id": "dff2c4b6-f50c-4c7c-8ab0-7ba6e02b7b12",
   "metadata": {},
   "outputs": [
    {
     "name": "stdout",
     "output_type": "stream",
     "text": [
      "              precision    recall  f1-score   support\n",
      "\n",
      "           0       0.35      0.99      0.52       139\n",
      "           1       0.88      0.11      0.20        61\n",
      "           2       0.00      0.00      0.00       164\n",
      "           3       0.00      0.00      0.00        36\n",
      "\n",
      "    accuracy                           0.36       400\n",
      "   macro avg       0.31      0.28      0.18       400\n",
      "weighted avg       0.26      0.36      0.21       400\n",
      "\n"
     ]
    },
    {
     "name": "stderr",
     "output_type": "stream",
     "text": [
      "C:\\Users\\hp\\AppData\\Local\\Programs\\Python\\Python310\\lib\\site-packages\\sklearn\\metrics\\_classification.py:1469: UndefinedMetricWarning: Precision and F-score are ill-defined and being set to 0.0 in labels with no predicted samples. Use `zero_division` parameter to control this behavior.\n",
      "  _warn_prf(average, modifier, msg_start, len(result))\n",
      "C:\\Users\\hp\\AppData\\Local\\Programs\\Python\\Python310\\lib\\site-packages\\sklearn\\metrics\\_classification.py:1469: UndefinedMetricWarning: Precision and F-score are ill-defined and being set to 0.0 in labels with no predicted samples. Use `zero_division` parameter to control this behavior.\n",
      "  _warn_prf(average, modifier, msg_start, len(result))\n",
      "C:\\Users\\hp\\AppData\\Local\\Programs\\Python\\Python310\\lib\\site-packages\\sklearn\\metrics\\_classification.py:1469: UndefinedMetricWarning: Precision and F-score are ill-defined and being set to 0.0 in labels with no predicted samples. Use `zero_division` parameter to control this behavior.\n",
      "  _warn_prf(average, modifier, msg_start, len(result))\n"
     ]
    }
   ],
   "source": [
    "# for control the model performance at 2% threshold\n",
    "threshold_prediction = [0 if i < loss_threshold else 1 for i in prediction_loss]\n",
    "# for control the prediction performance\n",
    "print(classification_report(y_test, threshold_prediction))"
   ]
  },
  {
   "cell_type": "code",
   "execution_count": null,
   "id": "9f3bbd8a-a401-4dc2-95bf-5c09ed6a6659",
   "metadata": {},
   "outputs": [],
   "source": []
  }
 ],
 "metadata": {
  "kernelspec": {
   "display_name": "Python 3 (ipykernel)",
   "language": "python",
   "name": "python3"
  },
  "language_info": {
   "codemirror_mode": {
    "name": "ipython",
    "version": 3
   },
   "file_extension": ".py",
   "mimetype": "text/x-python",
   "name": "python",
   "nbconvert_exporter": "python",
   "pygments_lexer": "ipython3",
   "version": "3.9.13"
  }
 },
 "nbformat": 4,
 "nbformat_minor": 5
}
